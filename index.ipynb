{
 "cells": [
  {
   "cell_type": "markdown",
   "metadata": {},
   "source": [
    "# MottanAI: Garbage Classifier using CNN"
   ]
  },
  {
   "cell_type": "markdown",
   "metadata": {},
   "source": [
    "### Import Libraries"
   ]
  },
  {
   "cell_type": "code",
   "execution_count": 1,
   "metadata": {},
   "outputs": [],
   "source": [
    "import os\n",
    "import pathlib\n",
    "import numpy as np\n",
    "from PIL import Image, ImageOps\n",
    "from imageio import imread, imwrite\n",
    "import tensorflow as tf\n",
    "import tensorflow_datasets as tfds\n",
    "from tensorflow.keras import layers\n",
    "\n"
   ]
  },
  {
   "cell_type": "markdown",
   "metadata": {},
   "source": [
    "### Global Constants"
   ]
  },
  {
   "cell_type": "code",
   "execution_count": 1,
   "metadata": {},
   "outputs": [],
   "source": [
    "img_height = 180\n",
    "img_width = 180"
   ]
  },
  {
   "cell_type": "markdown",
   "metadata": {},
   "source": [
    "### Preprocessing"
   ]
  },
  {
   "cell_type": "code",
   "execution_count": null,
   "metadata": {},
   "outputs": [],
   "source": [
    "def preprocess_dataset():\n",
    "    \"\"\" preprocess gathered images into burnable and nonburnable folders \"\"\"\n",
    "\n",
    "    dataset_original_path = os.path.join(os.getcwd(), 'dataset_original')\n",
    "    dataset_output_path = os.path.join(os.getcwd(), 'dataset')\n",
    "\n",
    "    try:\n",
    "        os.makedirs(dataset_output_path)\n",
    "        os.makedirs(os.path.join(dataset_output_path, 'burnable'))\n",
    "        os.makedirs(os.path.join(dataset_output_path, 'nonburnable'))\n",
    "        \n",
    "    except OSError:\n",
    "        if not os.path.isdir(dataset_output_path):\n",
    "            raise\n",
    "\n",
    "    for original_class in is_burnable:\n",
    "\n",
    "        original_class_path = os.path.join(dataset_original_path,\n",
    "                                           original_class)\n",
    "\n",
    "        preprocessed_class_path = os.path.join(\n",
    "            dataset_output_path,\n",
    "            'burnable' if is_burnable[original_class] else 'nonburnable')\n",
    "\n",
    "        for subdir, dirs, files in os.walk(original_class_path):\n",
    "        for file in files:\n",
    "            if len(file) <= 4 or file[-4:] != '.jpg':\n",
    "                continue\n",
    "\n",
    "            image = Image.open(os.path.join(subdir, file))\n",
    "\n",
    "            # Apply Grayscale\n",
    "            # image = ImageOps.grayscale(image)\n",
    "\n",
    "            # Resize image\n",
    "            image = image.resize((img_width, img_height))\n",
    "\n",
    "            imwrite(os.path.join(preprocessed_class_path, file), image)\n",
    "\n",
    "# uncomment only if new images are added to the original dataset         \n",
    "#preprocess_dataset()"
   ]
  },
  {
   "cell_type": "markdown",
   "metadata": {},
   "source": [
    "### Load the Dataset"
   ]
  },
  {
   "cell_type": "code",
   "execution_count": null,
   "metadata": {},
   "outputs": [],
   "source": [
    "\n",
    "# Parameters\n",
    "batch_size = 32\n",
    "validation_split = 0.3  # Train-test split. Validation = Test\n",
    "\n",
    "print('Importing dataset...')\n",
    "data_dir = pathlib.Path('dataset')\n",
    "\n",
    "# Get the number of images\n",
    "image_count = len(list(data_dir.glob('*/*.jpg')))\n",
    "print(f\"image_count = {image_count}\")\n",
    "\n",
    "#\n",
    "train_ds = tf.keras.utils.image_dataset_from_directory(\n",
    "    data_dir,\n",
    "    validation_split=validation_split,\n",
    "    subset=\"training\",\n",
    "    seed=123,\n",
    "    image_size=(img_height, img_width),\n",
    "    batch_size=batch_size)\n",
    "\n",
    "test_ds = tf.keras.utils.image_dataset_from_directory(\n",
    "    data_dir,\n",
    "    validation_split=validation_split,\n",
    "    subset=\"validation\",\n",
    "    seed=123,\n",
    "    image_size=(img_height, img_width),\n",
    "    batch_size=batch_size)\n",
    "\n",
    "print('Found classes ', train_ds.class_names)\n",
    "\n",
    "# Use buffered prefetching\n",
    "print('Using buffered prefetching...')\n",
    "AUTOTUNE = tf.data.AUTOTUNE\n",
    "train_ds = train_ds.cache().prefetch(buffer_size=AUTOTUNE)\n",
    "test_ds = test_ds.cache().prefetch(buffer_size=AUTOTUNE)"
   ]
  },
  {
   "cell_type": "code",
   "execution_count": null,
   "metadata": {},
   "outputs": [],
   "source": []
  }
 ],
 "metadata": {
  "kernelspec": {
   "display_name": "Python 3 (ipykernel)",
   "language": "python",
   "name": "python3"
  },
  "language_info": {
   "codemirror_mode": {
    "name": "ipython",
    "version": 3
   },
   "file_extension": ".py",
   "mimetype": "text/x-python",
   "name": "python",
   "nbconvert_exporter": "python",
   "pygments_lexer": "ipython3",
   "version": "3.9.7"
  }
 },
 "nbformat": 4,
 "nbformat_minor": 4
}
