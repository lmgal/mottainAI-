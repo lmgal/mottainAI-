{
 "cells": [
  {
   "cell_type": "markdown",
   "metadata": {},
   "source": [
    "# MottanAI: Garbage Classifier using CNN"
   ]
  },
  {
   "cell_type": "markdown",
   "metadata": {},
   "source": [
    "### Import Libraries"
   ]
  },
  {
   "cell_type": "code",
   "execution_count": 1,
   "metadata": {},
   "outputs": [],
   "source": [
    "import os\n",
    "from PIL import Image, ImageOps\n",
    "from imageio import imread, imwrite\n",
    "\n",
    "\n"
   ]
  },
  {
   "cell_type": "markdown",
   "metadata": {},
   "source": [
    "### Global Constants"
   ]
  },
  {
   "cell_type": "code",
   "execution_count": 1,
   "metadata": {},
   "outputs": [],
   "source": [
    "img_height = 180\n",
    "img_width = 180"
   ]
  },
  {
   "cell_type": "markdown",
   "metadata": {},
   "source": [
    "### Preprocessing"
   ]
  },
  {
   "cell_type": "code",
   "execution_count": null,
   "metadata": {},
   "outputs": [],
   "source": [
    "def preprocess_dataset():\n",
    "    \"\"\" preprocess gathered images into burnable and nonburnable folders \"\"\"\n",
    "\n",
    "    dataset_original_path = os.path.join(os.getcwd(), 'dataset_original')\n",
    "    dataset_output_path = os.path.join(os.getcwd(), 'dataset')\n",
    "\n",
    "    try:\n",
    "        os.makedirs(dataset_output_path)\n",
    "        os.makedirs(os.path.join(dataset_output_path, 'burnable'))\n",
    "        os.makedirs(os.path.join(dataset_output_path, 'nonburnable'))\n",
    "        \n",
    "    except OSError:\n",
    "        if not os.path.isdir(dataset_output_path):\n",
    "            raise\n",
    "\n",
    "    for original_class in is_burnable:\n",
    "\n",
    "        original_class_path = os.path.join(dataset_original_path,\n",
    "                                           original_class)\n",
    "\n",
    "        preprocessed_class_path = os.path.join(\n",
    "            dataset_output_path,\n",
    "            'burnable' if is_burnable[original_class] else 'nonburnable')\n",
    "\n",
    "        for subdir, dirs, files in os.walk(original_class_path):\n",
    "        for file in files:\n",
    "            if len(file) <= 4 or file[-4:] != '.jpg':\n",
    "                continue\n",
    "\n",
    "            image = Image.open(os.path.join(subdir, file))\n",
    "\n",
    "            # Apply Grayscale\n",
    "            # image = ImageOps.grayscale(image)\n",
    "\n",
    "            # Resize image\n",
    "            image = image.resize((img_width, img_height))\n",
    "\n",
    "            imwrite(os.path.join(preprocessed_class_path, file), image)\n",
    "\n",
    "# uncomment only if new images are added to the original dataset         \n",
    "#preprocess_dataset()"
   ]
  },
  {
   "cell_type": "code",
   "execution_count": null,
   "metadata": {},
   "outputs": [],
   "source": []
  }
 ],
 "metadata": {
  "kernelspec": {
   "display_name": "Python 3 (ipykernel)",
   "language": "python",
   "name": "python3"
  },
  "language_info": {
   "codemirror_mode": {
    "name": "ipython",
    "version": 3
   },
   "file_extension": ".py",
   "mimetype": "text/x-python",
   "name": "python",
   "nbconvert_exporter": "python",
   "pygments_lexer": "ipython3",
   "version": "3.9.7"
  }
 },
 "nbformat": 4,
 "nbformat_minor": 4
}
